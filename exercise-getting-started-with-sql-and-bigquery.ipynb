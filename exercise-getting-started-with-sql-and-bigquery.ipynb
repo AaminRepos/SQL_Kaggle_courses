{
 "cells": [
  {
   "cell_type": "markdown",
   "id": "5efb9140",
   "metadata": {
    "papermill": {
     "duration": 0.006173,
     "end_time": "2022-08-15T00:22:24.609676",
     "exception": false,
     "start_time": "2022-08-15T00:22:24.603503",
     "status": "completed"
    },
    "tags": []
   },
   "source": [
    "**This notebook is an exercise in the [SQL](https://www.kaggle.com/learn/intro-to-sql) course.  You can reference the tutorial at [this link](https://www.kaggle.com/dansbecker/getting-started-with-sql-and-bigquery).**\n",
    "\n",
    "---\n"
   ]
  },
  {
   "cell_type": "markdown",
   "id": "0c5757d2",
   "metadata": {
    "papermill": {
     "duration": 0.004607,
     "end_time": "2022-08-15T00:22:24.619295",
     "exception": false,
     "start_time": "2022-08-15T00:22:24.614688",
     "status": "completed"
    },
    "tags": []
   },
   "source": [
    "# Introduction\n",
    "\n",
    "The first test of your new data exploration skills uses data describing crime in the city of Chicago.\n",
    "\n",
    "Before you get started, run the following cell. It sets up the automated feedback system to review your answers."
   ]
  },
  {
   "cell_type": "code",
   "execution_count": 1,
   "id": "1e878ebb",
   "metadata": {
    "execution": {
     "iopub.execute_input": "2022-08-15T00:22:24.631100Z",
     "iopub.status.busy": "2022-08-15T00:22:24.630669Z",
     "iopub.status.idle": "2022-08-15T00:22:25.520482Z",
     "shell.execute_reply": "2022-08-15T00:22:25.519620Z"
    },
    "papermill": {
     "duration": 0.898694,
     "end_time": "2022-08-15T00:22:25.522950",
     "exception": false,
     "start_time": "2022-08-15T00:22:24.624256",
     "status": "completed"
    },
    "tags": []
   },
   "outputs": [
    {
     "name": "stdout",
     "output_type": "stream",
     "text": [
      "Using Kaggle's public dataset BigQuery integration.\n",
      "Setup Complete\n"
     ]
    }
   ],
   "source": [
    "# Set up feedack system\n",
    "from learntools.core import binder\n",
    "binder.bind(globals())\n",
    "from learntools.sql.ex1 import *\n",
    "print(\"Setup Complete\")"
   ]
  },
  {
   "cell_type": "markdown",
   "id": "c17f823f",
   "metadata": {
    "papermill": {
     "duration": 0.00511,
     "end_time": "2022-08-15T00:22:25.533344",
     "exception": false,
     "start_time": "2022-08-15T00:22:25.528234",
     "status": "completed"
    },
    "tags": []
   },
   "source": [
    "Use the next code cell to fetch the dataset."
   ]
  },
  {
   "cell_type": "code",
   "execution_count": 2,
   "id": "57c52c48",
   "metadata": {
    "execution": {
     "iopub.execute_input": "2022-08-15T00:22:25.546588Z",
     "iopub.status.busy": "2022-08-15T00:22:25.545810Z",
     "iopub.status.idle": "2022-08-15T00:22:25.866404Z",
     "shell.execute_reply": "2022-08-15T00:22:25.865633Z"
    },
    "papermill": {
     "duration": 0.330062,
     "end_time": "2022-08-15T00:22:25.868985",
     "exception": false,
     "start_time": "2022-08-15T00:22:25.538923",
     "status": "completed"
    },
    "tags": []
   },
   "outputs": [
    {
     "name": "stdout",
     "output_type": "stream",
     "text": [
      "Using Kaggle's public dataset BigQuery integration.\n"
     ]
    }
   ],
   "source": [
    "from google.cloud import bigquery\n",
    "\n",
    "# Create a \"Client\" object\n",
    "client = bigquery.Client()\n",
    "\n",
    "# Construct a reference to the \"chicago_crime\" dataset\n",
    "dataset_ref = client.dataset(\"chicago_crime\", project=\"bigquery-public-data\")\n",
    "\n",
    "# API request - fetch the dataset\n",
    "dataset = client.get_dataset(dataset_ref)"
   ]
  },
  {
   "cell_type": "markdown",
   "id": "d7bfeacf",
   "metadata": {
    "papermill": {
     "duration": 0.00526,
     "end_time": "2022-08-15T00:22:25.879976",
     "exception": false,
     "start_time": "2022-08-15T00:22:25.874716",
     "status": "completed"
    },
    "tags": []
   },
   "source": [
    "# Exercises\n",
    "\n",
    "### 1) Count tables in the dataset\n",
    "\n",
    "How many tables are in the Chicago Crime dataset?"
   ]
  },
  {
   "cell_type": "code",
   "execution_count": 3,
   "id": "6d27bd00",
   "metadata": {
    "execution": {
     "iopub.execute_input": "2022-08-15T00:22:25.892728Z",
     "iopub.status.busy": "2022-08-15T00:22:25.892010Z",
     "iopub.status.idle": "2022-08-15T00:22:26.126396Z",
     "shell.execute_reply": "2022-08-15T00:22:26.124957Z"
    },
    "papermill": {
     "duration": 0.244609,
     "end_time": "2022-08-15T00:22:26.129860",
     "exception": false,
     "start_time": "2022-08-15T00:22:25.885251",
     "status": "completed"
    },
    "tags": []
   },
   "outputs": [
    {
     "name": "stdout",
     "output_type": "stream",
     "text": [
      "1\n"
     ]
    }
   ],
   "source": [
    "# Write the code you need here to figure out the answer\n",
    "\n",
    "tables = list(client.list_tables(dataset))\n",
    "print(len(tables))"
   ]
  },
  {
   "cell_type": "code",
   "execution_count": 4,
   "id": "4a6ad5f8",
   "metadata": {
    "execution": {
     "iopub.execute_input": "2022-08-15T00:22:26.143280Z",
     "iopub.status.busy": "2022-08-15T00:22:26.142706Z",
     "iopub.status.idle": "2022-08-15T00:22:26.151969Z",
     "shell.execute_reply": "2022-08-15T00:22:26.151183Z"
    },
    "papermill": {
     "duration": 0.018195,
     "end_time": "2022-08-15T00:22:26.153950",
     "exception": false,
     "start_time": "2022-08-15T00:22:26.135755",
     "status": "completed"
    },
    "tags": []
   },
   "outputs": [
    {
     "data": {
      "application/javascript": [
       "parent.postMessage({\"jupyterEvent\": \"custom.exercise_interaction\", \"data\": {\"outcomeType\": 1, \"valueTowardsCompletion\": 0.3333333333333333, \"interactionType\": 1, \"questionType\": 1, \"questionId\": \"1_CountTables\", \"learnToolsVersion\": \"0.3.4\", \"failureMessage\": \"\", \"exceptionClass\": \"\", \"trace\": \"\"}}, \"*\")"
      ],
      "text/plain": [
       "<IPython.core.display.Javascript object>"
      ]
     },
     "metadata": {},
     "output_type": "display_data"
    },
    {
     "data": {
      "text/markdown": [
       "<span style=\"color:#33cc33\">Correct</span>"
      ],
      "text/plain": [
       "Correct"
      ]
     },
     "metadata": {},
     "output_type": "display_data"
    }
   ],
   "source": [
    "num_tables = 1  # Store the answer as num_tables and then run this cell\n",
    "\n",
    "# Check your answer\n",
    "q_1.check()"
   ]
  },
  {
   "cell_type": "markdown",
   "id": "3906c7f3",
   "metadata": {
    "papermill": {
     "duration": 0.005463,
     "end_time": "2022-08-15T00:22:26.165227",
     "exception": false,
     "start_time": "2022-08-15T00:22:26.159764",
     "status": "completed"
    },
    "tags": []
   },
   "source": [
    "For a hint or the solution, uncomment the appropriate line below."
   ]
  },
  {
   "cell_type": "code",
   "execution_count": 5,
   "id": "ecd08618",
   "metadata": {
    "execution": {
     "iopub.execute_input": "2022-08-15T00:22:26.178386Z",
     "iopub.status.busy": "2022-08-15T00:22:26.177966Z",
     "iopub.status.idle": "2022-08-15T00:22:26.182363Z",
     "shell.execute_reply": "2022-08-15T00:22:26.181165Z"
    },
    "papermill": {
     "duration": 0.013511,
     "end_time": "2022-08-15T00:22:26.184420",
     "exception": false,
     "start_time": "2022-08-15T00:22:26.170909",
     "status": "completed"
    },
    "tags": []
   },
   "outputs": [],
   "source": [
    "#q_1.hint()\n",
    "#q_1.solution()"
   ]
  },
  {
   "cell_type": "markdown",
   "id": "db61a135",
   "metadata": {
    "papermill": {
     "duration": 0.005405,
     "end_time": "2022-08-15T00:22:26.195311",
     "exception": false,
     "start_time": "2022-08-15T00:22:26.189906",
     "status": "completed"
    },
    "tags": []
   },
   "source": [
    "### 2) Explore the table schema\n",
    "\n",
    "How many columns in the `crime` table have `TIMESTAMP` data?"
   ]
  },
  {
   "cell_type": "code",
   "execution_count": 6,
   "id": "fcd9385e",
   "metadata": {
    "execution": {
     "iopub.execute_input": "2022-08-15T00:22:26.208448Z",
     "iopub.status.busy": "2022-08-15T00:22:26.208024Z",
     "iopub.status.idle": "2022-08-15T00:22:26.427741Z",
     "shell.execute_reply": "2022-08-15T00:22:26.426413Z"
    },
    "papermill": {
     "duration": 0.229228,
     "end_time": "2022-08-15T00:22:26.430146",
     "exception": false,
     "start_time": "2022-08-15T00:22:26.200918",
     "status": "completed"
    },
    "tags": []
   },
   "outputs": [
    {
     "name": "stdout",
     "output_type": "stream",
     "text": [
      "[SchemaField('unique_key', 'INTEGER', 'REQUIRED', None, (), None), SchemaField('case_number', 'STRING', 'NULLABLE', None, (), None), SchemaField('date', 'TIMESTAMP', 'NULLABLE', None, (), None), SchemaField('block', 'STRING', 'NULLABLE', None, (), None), SchemaField('iucr', 'STRING', 'NULLABLE', None, (), None), SchemaField('primary_type', 'STRING', 'NULLABLE', None, (), None), SchemaField('description', 'STRING', 'NULLABLE', None, (), None), SchemaField('location_description', 'STRING', 'NULLABLE', None, (), None), SchemaField('arrest', 'BOOLEAN', 'NULLABLE', None, (), None), SchemaField('domestic', 'BOOLEAN', 'NULLABLE', None, (), None), SchemaField('beat', 'INTEGER', 'NULLABLE', None, (), None), SchemaField('district', 'INTEGER', 'NULLABLE', None, (), None), SchemaField('ward', 'INTEGER', 'NULLABLE', None, (), None), SchemaField('community_area', 'INTEGER', 'NULLABLE', None, (), None), SchemaField('fbi_code', 'STRING', 'NULLABLE', None, (), None), SchemaField('x_coordinate', 'FLOAT', 'NULLABLE', None, (), None), SchemaField('y_coordinate', 'FLOAT', 'NULLABLE', None, (), None), SchemaField('year', 'INTEGER', 'NULLABLE', None, (), None), SchemaField('updated_on', 'TIMESTAMP', 'NULLABLE', None, (), None), SchemaField('latitude', 'FLOAT', 'NULLABLE', None, (), None), SchemaField('longitude', 'FLOAT', 'NULLABLE', None, (), None), SchemaField('location', 'STRING', 'NULLABLE', None, (), None)]\n"
     ]
    }
   ],
   "source": [
    "# Write the code to figure out the answer\n",
    "\n",
    "table_ref = dataset_ref.table(\"crime\")\n",
    "\n",
    "table = client.get_table(table_ref)\n",
    "\n",
    "print(table.schema)\n"
   ]
  },
  {
   "cell_type": "code",
   "execution_count": 7,
   "id": "a9e1f259",
   "metadata": {
    "execution": {
     "iopub.execute_input": "2022-08-15T00:22:26.443050Z",
     "iopub.status.busy": "2022-08-15T00:22:26.442732Z",
     "iopub.status.idle": "2022-08-15T00:22:26.451609Z",
     "shell.execute_reply": "2022-08-15T00:22:26.450662Z"
    },
    "papermill": {
     "duration": 0.017446,
     "end_time": "2022-08-15T00:22:26.453593",
     "exception": false,
     "start_time": "2022-08-15T00:22:26.436147",
     "status": "completed"
    },
    "tags": []
   },
   "outputs": [
    {
     "data": {
      "application/javascript": [
       "parent.postMessage({\"jupyterEvent\": \"custom.exercise_interaction\", \"data\": {\"outcomeType\": 1, \"valueTowardsCompletion\": 0.3333333333333333, \"interactionType\": 1, \"questionType\": 1, \"questionId\": \"2_CountTimestampFields\", \"learnToolsVersion\": \"0.3.4\", \"failureMessage\": \"\", \"exceptionClass\": \"\", \"trace\": \"\"}}, \"*\")"
      ],
      "text/plain": [
       "<IPython.core.display.Javascript object>"
      ]
     },
     "metadata": {},
     "output_type": "display_data"
    },
    {
     "data": {
      "text/markdown": [
       "<span style=\"color:#33cc33\">Correct</span>"
      ],
      "text/plain": [
       "Correct"
      ]
     },
     "metadata": {},
     "output_type": "display_data"
    }
   ],
   "source": [
    "num_timestamp_fields = 2 # Put your answer here\n",
    "\n",
    "# Check your answer\n",
    "q_2.check()"
   ]
  },
  {
   "cell_type": "markdown",
   "id": "ce2f57d1",
   "metadata": {
    "papermill": {
     "duration": 0.005261,
     "end_time": "2022-08-15T00:22:26.464554",
     "exception": false,
     "start_time": "2022-08-15T00:22:26.459293",
     "status": "completed"
    },
    "tags": []
   },
   "source": [
    "For a hint or the solution, uncomment the appropriate line below."
   ]
  },
  {
   "cell_type": "code",
   "execution_count": 8,
   "id": "2358b7af",
   "metadata": {
    "execution": {
     "iopub.execute_input": "2022-08-15T00:22:26.478552Z",
     "iopub.status.busy": "2022-08-15T00:22:26.477531Z",
     "iopub.status.idle": "2022-08-15T00:22:26.482290Z",
     "shell.execute_reply": "2022-08-15T00:22:26.481502Z"
    },
    "papermill": {
     "duration": 0.013636,
     "end_time": "2022-08-15T00:22:26.484575",
     "exception": false,
     "start_time": "2022-08-15T00:22:26.470939",
     "status": "completed"
    },
    "tags": []
   },
   "outputs": [],
   "source": [
    "#q_2.hint()\n",
    "#q_2.solution()"
   ]
  },
  {
   "cell_type": "markdown",
   "id": "3216dd66",
   "metadata": {
    "papermill": {
     "duration": 0.005396,
     "end_time": "2022-08-15T00:22:26.495654",
     "exception": false,
     "start_time": "2022-08-15T00:22:26.490258",
     "status": "completed"
    },
    "tags": []
   },
   "source": [
    "### 3) Create a crime map\n",
    "\n",
    "If you wanted to create a map with a dot at the location of each crime, what are the names of the two fields you likely need to pull out of the `crime` table to plot the crimes on a map?"
   ]
  },
  {
   "cell_type": "code",
   "execution_count": 9,
   "id": "3344676d",
   "metadata": {
    "execution": {
     "iopub.execute_input": "2022-08-15T00:22:26.509492Z",
     "iopub.status.busy": "2022-08-15T00:22:26.508759Z",
     "iopub.status.idle": "2022-08-15T00:22:26.514950Z",
     "shell.execute_reply": "2022-08-15T00:22:26.513800Z"
    },
    "papermill": {
     "duration": 0.015558,
     "end_time": "2022-08-15T00:22:26.517128",
     "exception": false,
     "start_time": "2022-08-15T00:22:26.501570",
     "status": "completed"
    },
    "tags": []
   },
   "outputs": [
    {
     "name": "stdout",
     "output_type": "stream",
     "text": [
      "[SchemaField('unique_key', 'INTEGER', 'REQUIRED', None, (), None), SchemaField('case_number', 'STRING', 'NULLABLE', None, (), None), SchemaField('date', 'TIMESTAMP', 'NULLABLE', None, (), None), SchemaField('block', 'STRING', 'NULLABLE', None, (), None), SchemaField('iucr', 'STRING', 'NULLABLE', None, (), None), SchemaField('primary_type', 'STRING', 'NULLABLE', None, (), None), SchemaField('description', 'STRING', 'NULLABLE', None, (), None), SchemaField('location_description', 'STRING', 'NULLABLE', None, (), None), SchemaField('arrest', 'BOOLEAN', 'NULLABLE', None, (), None), SchemaField('domestic', 'BOOLEAN', 'NULLABLE', None, (), None), SchemaField('beat', 'INTEGER', 'NULLABLE', None, (), None), SchemaField('district', 'INTEGER', 'NULLABLE', None, (), None), SchemaField('ward', 'INTEGER', 'NULLABLE', None, (), None), SchemaField('community_area', 'INTEGER', 'NULLABLE', None, (), None), SchemaField('fbi_code', 'STRING', 'NULLABLE', None, (), None), SchemaField('x_coordinate', 'FLOAT', 'NULLABLE', None, (), None), SchemaField('y_coordinate', 'FLOAT', 'NULLABLE', None, (), None), SchemaField('year', 'INTEGER', 'NULLABLE', None, (), None), SchemaField('updated_on', 'TIMESTAMP', 'NULLABLE', None, (), None), SchemaField('latitude', 'FLOAT', 'NULLABLE', None, (), None), SchemaField('longitude', 'FLOAT', 'NULLABLE', None, (), None), SchemaField('location', 'STRING', 'NULLABLE', None, (), None)]\n"
     ]
    }
   ],
   "source": [
    "# Write the code here to explore the data so you can find the answer\n",
    "print(table.schema)"
   ]
  },
  {
   "cell_type": "code",
   "execution_count": 10,
   "id": "dc773e81",
   "metadata": {
    "execution": {
     "iopub.execute_input": "2022-08-15T00:22:26.529969Z",
     "iopub.status.busy": "2022-08-15T00:22:26.529298Z",
     "iopub.status.idle": "2022-08-15T00:22:26.538219Z",
     "shell.execute_reply": "2022-08-15T00:22:26.537106Z"
    },
    "papermill": {
     "duration": 0.017889,
     "end_time": "2022-08-15T00:22:26.540532",
     "exception": false,
     "start_time": "2022-08-15T00:22:26.522643",
     "status": "completed"
    },
    "tags": []
   },
   "outputs": [
    {
     "data": {
      "application/javascript": [
       "parent.postMessage({\"jupyterEvent\": \"custom.exercise_interaction\", \"data\": {\"outcomeType\": 1, \"valueTowardsCompletion\": 0.3333333333333333, \"interactionType\": 1, \"questionType\": 2, \"questionId\": \"3_IdentifyFieldsForPlotting\", \"learnToolsVersion\": \"0.3.4\", \"failureMessage\": \"\", \"exceptionClass\": \"\", \"trace\": \"\"}}, \"*\")"
      ],
      "text/plain": [
       "<IPython.core.display.Javascript object>"
      ]
     },
     "metadata": {},
     "output_type": "display_data"
    },
    {
     "data": {
      "text/markdown": [
       "<span style=\"color:#33cc33\">Correct</span>"
      ],
      "text/plain": [
       "Correct"
      ]
     },
     "metadata": {},
     "output_type": "display_data"
    }
   ],
   "source": [
    "fields_for_plotting = ['latitude', 'longitude'] # Put your answers here\n",
    "\n",
    "# Check your answer\n",
    "q_3.check()"
   ]
  },
  {
   "cell_type": "markdown",
   "id": "411c1e12",
   "metadata": {
    "papermill": {
     "duration": 0.005903,
     "end_time": "2022-08-15T00:22:26.551974",
     "exception": false,
     "start_time": "2022-08-15T00:22:26.546071",
     "status": "completed"
    },
    "tags": []
   },
   "source": [
    "For a hint or the solution, uncomment the appropriate line below."
   ]
  },
  {
   "cell_type": "code",
   "execution_count": 11,
   "id": "3ce88e68",
   "metadata": {
    "execution": {
     "iopub.execute_input": "2022-08-15T00:22:26.566380Z",
     "iopub.status.busy": "2022-08-15T00:22:26.565663Z",
     "iopub.status.idle": "2022-08-15T00:22:26.570263Z",
     "shell.execute_reply": "2022-08-15T00:22:26.569477Z"
    },
    "papermill": {
     "duration": 0.014537,
     "end_time": "2022-08-15T00:22:26.572415",
     "exception": false,
     "start_time": "2022-08-15T00:22:26.557878",
     "status": "completed"
    },
    "tags": []
   },
   "outputs": [],
   "source": [
    "#q_3.hint()\n",
    "#q_3.solution()"
   ]
  },
  {
   "cell_type": "markdown",
   "id": "93dfb90c",
   "metadata": {
    "papermill": {
     "duration": 0.005873,
     "end_time": "2022-08-15T00:22:26.584122",
     "exception": false,
     "start_time": "2022-08-15T00:22:26.578249",
     "status": "completed"
    },
    "tags": []
   },
   "source": [
    "Thinking about the question above, there are a few columns that appear to have geographic data. Look at a few values (with the `list_rows()` command) to see if you can determine their relationship.  Two columns will still be hard to interpret. But it should be obvious how the `location` column relates to `latitude` and `longitude`."
   ]
  },
  {
   "cell_type": "code",
   "execution_count": 12,
   "id": "00adf8f3",
   "metadata": {
    "execution": {
     "iopub.execute_input": "2022-08-15T00:22:26.598019Z",
     "iopub.status.busy": "2022-08-15T00:22:26.597287Z",
     "iopub.status.idle": "2022-08-15T00:22:27.144527Z",
     "shell.execute_reply": "2022-08-15T00:22:27.143801Z"
    },
    "papermill": {
     "duration": 0.556211,
     "end_time": "2022-08-15T00:22:27.146365",
     "exception": false,
     "start_time": "2022-08-15T00:22:26.590154",
     "status": "completed"
    },
    "tags": []
   },
   "outputs": [
    {
     "name": "stderr",
     "output_type": "stream",
     "text": [
      "/opt/conda/lib/python3.7/site-packages/ipykernel_launcher.py:2: UserWarning: Cannot use bqstorage_client if max_results is set, reverting to fetching data with the tabledata.list endpoint.\n",
      "  \n"
     ]
    },
    {
     "data": {
      "text/html": [
       "<div>\n",
       "<style scoped>\n",
       "    .dataframe tbody tr th:only-of-type {\n",
       "        vertical-align: middle;\n",
       "    }\n",
       "\n",
       "    .dataframe tbody tr th {\n",
       "        vertical-align: top;\n",
       "    }\n",
       "\n",
       "    .dataframe thead th {\n",
       "        text-align: right;\n",
       "    }\n",
       "</style>\n",
       "<table border=\"1\" class=\"dataframe\">\n",
       "  <thead>\n",
       "    <tr style=\"text-align: right;\">\n",
       "      <th></th>\n",
       "      <th>unique_key</th>\n",
       "      <th>case_number</th>\n",
       "      <th>date</th>\n",
       "      <th>block</th>\n",
       "      <th>iucr</th>\n",
       "      <th>primary_type</th>\n",
       "      <th>description</th>\n",
       "      <th>location_description</th>\n",
       "      <th>arrest</th>\n",
       "      <th>domestic</th>\n",
       "      <th>...</th>\n",
       "      <th>ward</th>\n",
       "      <th>community_area</th>\n",
       "      <th>fbi_code</th>\n",
       "      <th>x_coordinate</th>\n",
       "      <th>y_coordinate</th>\n",
       "      <th>year</th>\n",
       "      <th>updated_on</th>\n",
       "      <th>latitude</th>\n",
       "      <th>longitude</th>\n",
       "      <th>location</th>\n",
       "    </tr>\n",
       "  </thead>\n",
       "  <tbody>\n",
       "    <tr>\n",
       "      <th>0</th>\n",
       "      <td>9559990</td>\n",
       "      <td>HX211118</td>\n",
       "      <td>2014-04-03 07:30:00+00:00</td>\n",
       "      <td>093XX S PHILLIPS AVE</td>\n",
       "      <td>1750</td>\n",
       "      <td>OFFENSE INVOLVING CHILDREN</td>\n",
       "      <td>CHILD ABUSE</td>\n",
       "      <td>RESIDENCE</td>\n",
       "      <td>False</td>\n",
       "      <td>True</td>\n",
       "      <td>...</td>\n",
       "      <td>7</td>\n",
       "      <td>48</td>\n",
       "      <td>20</td>\n",
       "      <td>1194138.0</td>\n",
       "      <td>1843470.0</td>\n",
       "      <td>2014</td>\n",
       "      <td>2016-02-04 06:33:39+00:00</td>\n",
       "      <td>41.725415</td>\n",
       "      <td>-87.564454</td>\n",
       "      <td>(41.725415301, -87.564453971)</td>\n",
       "    </tr>\n",
       "    <tr>\n",
       "      <th>1</th>\n",
       "      <td>9604143</td>\n",
       "      <td>HX253700</td>\n",
       "      <td>2014-05-08 03:45:00+00:00</td>\n",
       "      <td>058XX S PULASKI RD</td>\n",
       "      <td>1563</td>\n",
       "      <td>SEX OFFENSE</td>\n",
       "      <td>CRIMINAL SEXUAL ABUSE</td>\n",
       "      <td>CTA BUS</td>\n",
       "      <td>True</td>\n",
       "      <td>False</td>\n",
       "      <td>...</td>\n",
       "      <td>13</td>\n",
       "      <td>62</td>\n",
       "      <td>17</td>\n",
       "      <td>1150696.0</td>\n",
       "      <td>1865757.0</td>\n",
       "      <td>2014</td>\n",
       "      <td>2018-02-10 03:50:01+00:00</td>\n",
       "      <td>41.787529</td>\n",
       "      <td>-87.723005</td>\n",
       "      <td>(41.787529202, -87.723005355)</td>\n",
       "    </tr>\n",
       "    <tr>\n",
       "      <th>2</th>\n",
       "      <td>9457008</td>\n",
       "      <td>HX109691</td>\n",
       "      <td>2014-01-10 03:30:00+00:00</td>\n",
       "      <td>103XX S WOOD ST</td>\n",
       "      <td>0630</td>\n",
       "      <td>BURGLARY</td>\n",
       "      <td>ATTEMPT FORCIBLE ENTRY</td>\n",
       "      <td>APARTMENT</td>\n",
       "      <td>False</td>\n",
       "      <td>False</td>\n",
       "      <td>...</td>\n",
       "      <td>19</td>\n",
       "      <td>72</td>\n",
       "      <td>05</td>\n",
       "      <td>1166186.0</td>\n",
       "      <td>1835845.0</td>\n",
       "      <td>2014</td>\n",
       "      <td>2016-02-04 06:33:39+00:00</td>\n",
       "      <td>41.705131</td>\n",
       "      <td>-87.667059</td>\n",
       "      <td>(41.705130592, -87.667059043)</td>\n",
       "    </tr>\n",
       "    <tr>\n",
       "      <th>3</th>\n",
       "      <td>9676870</td>\n",
       "      <td>HX327050</td>\n",
       "      <td>2014-07-01 05:50:00+00:00</td>\n",
       "      <td>040XX E 134TH ST</td>\n",
       "      <td>2826</td>\n",
       "      <td>OTHER OFFENSE</td>\n",
       "      <td>HARASSMENT BY ELECTRONIC MEANS</td>\n",
       "      <td>RESIDENCE</td>\n",
       "      <td>False</td>\n",
       "      <td>False</td>\n",
       "      <td>...</td>\n",
       "      <td>10</td>\n",
       "      <td>55</td>\n",
       "      <td>26</td>\n",
       "      <td>1204544.0</td>\n",
       "      <td>1816604.0</td>\n",
       "      <td>2014</td>\n",
       "      <td>2018-02-10 03:50:01+00:00</td>\n",
       "      <td>41.651431</td>\n",
       "      <td>-87.527258</td>\n",
       "      <td>(41.651431329, -87.527258234)</td>\n",
       "    </tr>\n",
       "    <tr>\n",
       "      <th>4</th>\n",
       "      <td>9701312</td>\n",
       "      <td>HX351243</td>\n",
       "      <td>2014-07-19 08:10:00+00:00</td>\n",
       "      <td>085XX S BLACKSTONE AVE</td>\n",
       "      <td>502P</td>\n",
       "      <td>OTHER OFFENSE</td>\n",
       "      <td>FALSE/STOLEN/ALTERED TRP</td>\n",
       "      <td>STREET</td>\n",
       "      <td>False</td>\n",
       "      <td>False</td>\n",
       "      <td>...</td>\n",
       "      <td>8</td>\n",
       "      <td>45</td>\n",
       "      <td>26</td>\n",
       "      <td>1187693.0</td>\n",
       "      <td>1848456.0</td>\n",
       "      <td>2014</td>\n",
       "      <td>2018-02-10 03:50:01+00:00</td>\n",
       "      <td>41.739253</td>\n",
       "      <td>-87.587904</td>\n",
       "      <td>(41.739252947, -87.587903704)</td>\n",
       "    </tr>\n",
       "  </tbody>\n",
       "</table>\n",
       "<p>5 rows × 22 columns</p>\n",
       "</div>"
      ],
      "text/plain": [
       "   unique_key case_number                      date                   block  \\\n",
       "0     9559990    HX211118 2014-04-03 07:30:00+00:00    093XX S PHILLIPS AVE   \n",
       "1     9604143    HX253700 2014-05-08 03:45:00+00:00      058XX S PULASKI RD   \n",
       "2     9457008    HX109691 2014-01-10 03:30:00+00:00         103XX S WOOD ST   \n",
       "3     9676870    HX327050 2014-07-01 05:50:00+00:00        040XX E 134TH ST   \n",
       "4     9701312    HX351243 2014-07-19 08:10:00+00:00  085XX S BLACKSTONE AVE   \n",
       "\n",
       "   iucr                primary_type                     description  \\\n",
       "0  1750  OFFENSE INVOLVING CHILDREN                     CHILD ABUSE   \n",
       "1  1563                 SEX OFFENSE           CRIMINAL SEXUAL ABUSE   \n",
       "2  0630                    BURGLARY          ATTEMPT FORCIBLE ENTRY   \n",
       "3  2826               OTHER OFFENSE  HARASSMENT BY ELECTRONIC MEANS   \n",
       "4  502P               OTHER OFFENSE        FALSE/STOLEN/ALTERED TRP   \n",
       "\n",
       "  location_description  arrest  domestic  ...  ward  community_area  fbi_code  \\\n",
       "0            RESIDENCE   False      True  ...     7              48        20   \n",
       "1              CTA BUS    True     False  ...    13              62        17   \n",
       "2            APARTMENT   False     False  ...    19              72        05   \n",
       "3            RESIDENCE   False     False  ...    10              55        26   \n",
       "4               STREET   False     False  ...     8              45        26   \n",
       "\n",
       "   x_coordinate y_coordinate  year                updated_on   latitude  \\\n",
       "0     1194138.0    1843470.0  2014 2016-02-04 06:33:39+00:00  41.725415   \n",
       "1     1150696.0    1865757.0  2014 2018-02-10 03:50:01+00:00  41.787529   \n",
       "2     1166186.0    1835845.0  2014 2016-02-04 06:33:39+00:00  41.705131   \n",
       "3     1204544.0    1816604.0  2014 2018-02-10 03:50:01+00:00  41.651431   \n",
       "4     1187693.0    1848456.0  2014 2018-02-10 03:50:01+00:00  41.739253   \n",
       "\n",
       "   longitude                       location  \n",
       "0 -87.564454  (41.725415301, -87.564453971)  \n",
       "1 -87.723005  (41.787529202, -87.723005355)  \n",
       "2 -87.667059  (41.705130592, -87.667059043)  \n",
       "3 -87.527258  (41.651431329, -87.527258234)  \n",
       "4 -87.587904  (41.739252947, -87.587903704)  \n",
       "\n",
       "[5 rows x 22 columns]"
      ]
     },
     "execution_count": 12,
     "metadata": {},
     "output_type": "execute_result"
    }
   ],
   "source": [
    "# Scratch space for your code\n",
    "client.list_rows(table, max_results= 5).to_dataframe()"
   ]
  },
  {
   "cell_type": "markdown",
   "id": "9242ed1c",
   "metadata": {
    "papermill": {
     "duration": 0.006215,
     "end_time": "2022-08-15T00:22:27.159121",
     "exception": false,
     "start_time": "2022-08-15T00:22:27.152906",
     "status": "completed"
    },
    "tags": []
   },
   "source": [
    "# Keep going\n",
    "\n",
    "You've looked at the schema, but you haven't yet done anything exciting with the data itself. Things get more interesting when you get to the data, so keep going to **[write your first SQL query](https://www.kaggle.com/dansbecker/select-from-where).**"
   ]
  },
  {
   "cell_type": "markdown",
   "id": "949b7e08",
   "metadata": {
    "papermill": {
     "duration": 0.006069,
     "end_time": "2022-08-15T00:22:27.171288",
     "exception": false,
     "start_time": "2022-08-15T00:22:27.165219",
     "status": "completed"
    },
    "tags": []
   },
   "source": [
    "---\n",
    "\n",
    "\n",
    "\n",
    "\n",
    "*Have questions or comments? Visit the [course discussion forum](https://www.kaggle.com/learn/intro-to-sql/discussion) to chat with other learners.*"
   ]
  }
 ],
 "metadata": {
  "kernelspec": {
   "display_name": "Python 3",
   "language": "python",
   "name": "python3"
  },
  "language_info": {
   "codemirror_mode": {
    "name": "ipython",
    "version": 3
   },
   "file_extension": ".py",
   "mimetype": "text/x-python",
   "name": "python",
   "nbconvert_exporter": "python",
   "pygments_lexer": "ipython3",
   "version": "3.7.12"
  },
  "papermill": {
   "default_parameters": {},
   "duration": 12.429366,
   "end_time": "2022-08-15T00:22:27.798274",
   "environment_variables": {},
   "exception": null,
   "input_path": "__notebook__.ipynb",
   "output_path": "__notebook__.ipynb",
   "parameters": {},
   "start_time": "2022-08-15T00:22:15.368908",
   "version": "2.3.4"
  }
 },
 "nbformat": 4,
 "nbformat_minor": 5
}
